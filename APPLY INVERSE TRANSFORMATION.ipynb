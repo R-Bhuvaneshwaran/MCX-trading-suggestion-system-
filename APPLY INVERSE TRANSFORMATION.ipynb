{
 "cells": [
  {
   "cell_type": "code",
   "execution_count": 10,
   "id": "4095e2a2",
   "metadata": {},
   "outputs": [],
   "source": [
    "# apply the inverse transformation to the yhat column\n",
    "y_pred=forecast['yhat']\n",
    "scaling_factor = 1000 # assume the original data was scaled by a factor of 1000\n",
    "y_pred = y_pred / scaling_factor"
   ]
  },
  {
   "cell_type": "code",
   "execution_count": 11,
   "id": "f92e68e6",
   "metadata": {},
   "outputs": [
    {
     "data": {
      "text/plain": [
       "0       1039.079265\n",
       "1       1049.233931\n",
       "2       1053.912718\n",
       "3       1038.949116\n",
       "4        492.666700\n",
       "           ...     \n",
       "4102     119.214615\n",
       "4103     123.376237\n",
       "4104     122.116094\n",
       "4105     101.382505\n",
       "4106    -450.391376\n",
       "Name: yhat, Length: 4107, dtype: float64"
      ]
     },
     "execution_count": 11,
     "metadata": {},
     "output_type": "execute_result"
    }
   ],
   "source": [
    "y_pred"
   ]
  },
  {
   "cell_type": "code",
   "execution_count": 12,
   "id": "eed6140d",
   "metadata": {},
   "outputs": [],
   "source": [
    "yhat=forecast['yhat']"
   ]
  },
  {
   "cell_type": "code",
   "execution_count": 13,
   "id": "0b2911ee",
   "metadata": {},
   "outputs": [
    {
     "data": {
      "text/plain": [
       "(4107,)"
      ]
     },
     "execution_count": 13,
     "metadata": {},
     "output_type": "execute_result"
    }
   ],
   "source": [
    "yhat.shape"
   ]
  },
  {
   "cell_type": "code",
   "execution_count": 14,
   "id": "546add2a",
   "metadata": {},
   "outputs": [],
   "source": [
    "y=df['y']"
   ]
  },
  {
   "cell_type": "code",
   "execution_count": 15,
   "id": "088d7afe",
   "metadata": {},
   "outputs": [
    {
     "data": {
      "text/plain": [
       "(3742,)"
      ]
     },
     "execution_count": 15,
     "metadata": {},
     "output_type": "execute_result"
    }
   ],
   "source": [
    "y.shape"
   ]
  },
  {
   "cell_type": "code",
   "execution_count": 16,
   "id": "3048a36b",
   "metadata": {},
   "outputs": [],
   "source": [
    "yhat = yhat.iloc[:len(y)]"
   ]
  },
  {
   "cell_type": "code",
   "execution_count": 17,
   "id": "e89ffcce",
   "metadata": {},
   "outputs": [
    {
     "data": {
      "text/plain": [
       "0       1.039079e+06\n",
       "1       1.049234e+06\n",
       "2       1.053913e+06\n",
       "3       1.038949e+06\n",
       "4       4.926667e+05\n",
       "            ...     \n",
       "3737    9.439444e+04\n",
       "3738    1.554301e+05\n",
       "3739    1.599928e+05\n",
       "3740    1.592009e+05\n",
       "3741    1.389955e+05\n",
       "Name: yhat, Length: 3742, dtype: float64"
      ]
     },
     "execution_count": 17,
     "metadata": {},
     "output_type": "execute_result"
    }
   ],
   "source": [
    "yhat"
   ]
  },
  {
   "cell_type": "code",
   "execution_count": 18,
   "id": "6d0d239b",
   "metadata": {},
   "outputs": [
    {
     "data": {
      "text/plain": [
       "(3742,)"
      ]
     },
     "execution_count": 18,
     "metadata": {},
     "output_type": "execute_result"
    }
   ],
   "source": [
    "yhat.shape"
   ]
  }
 ],
 "metadata": {
  "kernelspec": {
   "display_name": "Python 3 (ipykernel)",
   "language": "python",
   "name": "python3"
  },
  "language_info": {
   "codemirror_mode": {
    "name": "ipython",
    "version": 3
   },
   "file_extension": ".py",
   "mimetype": "text/x-python",
   "name": "python",
   "nbconvert_exporter": "python",
   "pygments_lexer": "ipython3",
   "version": "3.10.9"
  }
 },
 "nbformat": 4,
 "nbformat_minor": 5
}
