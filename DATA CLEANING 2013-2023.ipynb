{
 "cells": [
  {
   "cell_type": "code",
   "execution_count": 1,
   "id": "55c3d2d9",
   "metadata": {},
   "outputs": [],
   "source": [
    "import pandas as pd\n",
    "df=pd.read_csv(r'F:\\Metal sales/2013.csv')"
   ]
  },
  {
   "cell_type": "code",
   "execution_count": 2,
   "id": "fb6367c3",
   "metadata": {},
   "outputs": [
    {
     "data": {
      "text/html": [
       "<div>\n",
       "<style scoped>\n",
       "    .dataframe tbody tr th:only-of-type {\n",
       "        vertical-align: middle;\n",
       "    }\n",
       "\n",
       "    .dataframe tbody tr th {\n",
       "        vertical-align: top;\n",
       "    }\n",
       "\n",
       "    .dataframe thead th {\n",
       "        text-align: right;\n",
       "    }\n",
       "</style>\n",
       "<table border=\"1\" class=\"dataframe\">\n",
       "  <thead>\n",
       "    <tr style=\"text-align: right;\">\n",
       "      <th></th>\n",
       "      <th>Instrument Type</th>\n",
       "      <th>Date</th>\n",
       "      <th>Segment</th>\n",
       "      <th>Commodity</th>\n",
       "      <th>Traded Contract(Lots)</th>\n",
       "      <th>Total Value (Lacs)</th>\n",
       "      <th>Avg Daily Turnover (Lacs)</th>\n",
       "    </tr>\n",
       "  </thead>\n",
       "  <tbody>\n",
       "    <tr>\n",
       "      <th>0</th>\n",
       "      <td>FUTCOM</td>\n",
       "      <td>01 Jan 2013</td>\n",
       "      <td>BASE METALS</td>\n",
       "      <td>ALUMINI</td>\n",
       "      <td>1077</td>\n",
       "      <td>1218.55</td>\n",
       "      <td>0</td>\n",
       "    </tr>\n",
       "    <tr>\n",
       "      <th>1</th>\n",
       "      <td>FUTCOM</td>\n",
       "      <td>01 Jan 2013</td>\n",
       "      <td>BASE METALS</td>\n",
       "      <td>ALUMINIUM</td>\n",
       "      <td>582</td>\n",
       "      <td>3293.26</td>\n",
       "      <td>0</td>\n",
       "    </tr>\n",
       "    <tr>\n",
       "      <th>2</th>\n",
       "      <td>FUTCOM</td>\n",
       "      <td>01 Jan 2013</td>\n",
       "      <td>BASE METALS</td>\n",
       "      <td>COPPER</td>\n",
       "      <td>10444</td>\n",
       "      <td>46359.15</td>\n",
       "      <td>0</td>\n",
       "    </tr>\n",
       "    <tr>\n",
       "      <th>3</th>\n",
       "      <td>FUTCOM</td>\n",
       "      <td>01 Jan 2013</td>\n",
       "      <td>BASE METALS</td>\n",
       "      <td>COPPERM</td>\n",
       "      <td>10268</td>\n",
       "      <td>11394.27</td>\n",
       "      <td>0</td>\n",
       "    </tr>\n",
       "    <tr>\n",
       "      <th>4</th>\n",
       "      <td>FUTCOM</td>\n",
       "      <td>01 Jan 2013</td>\n",
       "      <td>BASE METALS</td>\n",
       "      <td>LEAD</td>\n",
       "      <td>3715</td>\n",
       "      <td>23667.38</td>\n",
       "      <td>0</td>\n",
       "    </tr>\n",
       "  </tbody>\n",
       "</table>\n",
       "</div>"
      ],
      "text/plain": [
       "  Instrument Type         Date      Segment  Commodity  Traded Contract(Lots)  \\\n",
       "0          FUTCOM  01 Jan 2013  BASE METALS    ALUMINI                   1077   \n",
       "1          FUTCOM  01 Jan 2013  BASE METALS  ALUMINIUM                    582   \n",
       "2          FUTCOM  01 Jan 2013  BASE METALS     COPPER                  10444   \n",
       "3          FUTCOM  01 Jan 2013  BASE METALS    COPPERM                  10268   \n",
       "4          FUTCOM  01 Jan 2013  BASE METALS       LEAD                   3715   \n",
       "\n",
       "   Total Value (Lacs)  Avg Daily Turnover (Lacs)  \n",
       "0             1218.55                          0  \n",
       "1             3293.26                          0  \n",
       "2            46359.15                          0  \n",
       "3            11394.27                          0  \n",
       "4            23667.38                          0  "
      ]
     },
     "execution_count": 2,
     "metadata": {},
     "output_type": "execute_result"
    }
   ],
   "source": [
    "df.head()"
   ]
  },
  {
   "cell_type": "code",
   "execution_count": 3,
   "id": "056c0b80",
   "metadata": {},
   "outputs": [
    {
     "data": {
      "text/plain": [
       "(3388, 7)"
      ]
     },
     "execution_count": 3,
     "metadata": {},
     "output_type": "execute_result"
    }
   ],
   "source": [
    "df.shape"
   ]
  },
  {
   "cell_type": "code",
   "execution_count": 4,
   "id": "8b24a8b8",
   "metadata": {},
   "outputs": [],
   "source": [
    "data=df[['Date','Total Value (Lacs)']]"
   ]
  },
  {
   "cell_type": "code",
   "execution_count": 5,
   "id": "3463535f",
   "metadata": {},
   "outputs": [
    {
     "data": {
      "text/html": [
       "<div>\n",
       "<style scoped>\n",
       "    .dataframe tbody tr th:only-of-type {\n",
       "        vertical-align: middle;\n",
       "    }\n",
       "\n",
       "    .dataframe tbody tr th {\n",
       "        vertical-align: top;\n",
       "    }\n",
       "\n",
       "    .dataframe thead th {\n",
       "        text-align: right;\n",
       "    }\n",
       "</style>\n",
       "<table border=\"1\" class=\"dataframe\">\n",
       "  <thead>\n",
       "    <tr style=\"text-align: right;\">\n",
       "      <th></th>\n",
       "      <th>Date</th>\n",
       "      <th>Total Value (Lacs)</th>\n",
       "    </tr>\n",
       "  </thead>\n",
       "  <tbody>\n",
       "    <tr>\n",
       "      <th>0</th>\n",
       "      <td>01 Jan 2013</td>\n",
       "      <td>1218.55</td>\n",
       "    </tr>\n",
       "    <tr>\n",
       "      <th>1</th>\n",
       "      <td>01 Jan 2013</td>\n",
       "      <td>3293.26</td>\n",
       "    </tr>\n",
       "    <tr>\n",
       "      <th>2</th>\n",
       "      <td>01 Jan 2013</td>\n",
       "      <td>46359.15</td>\n",
       "    </tr>\n",
       "    <tr>\n",
       "      <th>3</th>\n",
       "      <td>01 Jan 2013</td>\n",
       "      <td>11394.27</td>\n",
       "    </tr>\n",
       "    <tr>\n",
       "      <th>4</th>\n",
       "      <td>01 Jan 2013</td>\n",
       "      <td>23667.38</td>\n",
       "    </tr>\n",
       "    <tr>\n",
       "      <th>...</th>\n",
       "      <td>...</td>\n",
       "      <td>...</td>\n",
       "    </tr>\n",
       "    <tr>\n",
       "      <th>3383</th>\n",
       "      <td>31 Dec 2013</td>\n",
       "      <td>42758.35</td>\n",
       "    </tr>\n",
       "    <tr>\n",
       "      <th>3384</th>\n",
       "      <td>31 Dec 2013</td>\n",
       "      <td>12037.93</td>\n",
       "    </tr>\n",
       "    <tr>\n",
       "      <th>3385</th>\n",
       "      <td>31 Dec 2013</td>\n",
       "      <td>0.00</td>\n",
       "    </tr>\n",
       "    <tr>\n",
       "      <th>3386</th>\n",
       "      <td>31 Dec 2013</td>\n",
       "      <td>86011.22</td>\n",
       "    </tr>\n",
       "    <tr>\n",
       "      <th>3387</th>\n",
       "      <td>31 Dec 2013</td>\n",
       "      <td>24591.07</td>\n",
       "    </tr>\n",
       "  </tbody>\n",
       "</table>\n",
       "<p>3388 rows × 2 columns</p>\n",
       "</div>"
      ],
      "text/plain": [
       "             Date  Total Value (Lacs)\n",
       "0     01 Jan 2013             1218.55\n",
       "1     01 Jan 2013             3293.26\n",
       "2     01 Jan 2013            46359.15\n",
       "3     01 Jan 2013            11394.27\n",
       "4     01 Jan 2013            23667.38\n",
       "...           ...                 ...\n",
       "3383  31 Dec 2013            42758.35\n",
       "3384  31 Dec 2013            12037.93\n",
       "3385  31 Dec 2013                0.00\n",
       "3386  31 Dec 2013            86011.22\n",
       "3387  31 Dec 2013            24591.07\n",
       "\n",
       "[3388 rows x 2 columns]"
      ]
     },
     "execution_count": 5,
     "metadata": {},
     "output_type": "execute_result"
    }
   ],
   "source": [
    "data"
   ]
  },
  {
   "cell_type": "code",
   "execution_count": 6,
   "id": "2c70ec29",
   "metadata": {},
   "outputs": [
    {
     "name": "stderr",
     "output_type": "stream",
     "text": [
      "C:\\Users\\HP\\AppData\\Local\\Temp\\ipykernel_18184\\263620127.py:1: SettingWithCopyWarning: \n",
      "A value is trying to be set on a copy of a slice from a DataFrame.\n",
      "Try using .loc[row_indexer,col_indexer] = value instead\n",
      "\n",
      "See the caveats in the documentation: https://pandas.pydata.org/pandas-docs/stable/user_guide/indexing.html#returning-a-view-versus-a-copy\n",
      "  data['Date'] = pd.to_datetime(data['Date'])\n"
     ]
    }
   ],
   "source": [
    "data['Date'] = pd.to_datetime(data['Date'])\n",
    "data =data.groupby(pd.Grouper(key='Date', freq='D')).sum()"
   ]
  },
  {
   "cell_type": "code",
   "execution_count": 7,
   "id": "e2944b2e",
   "metadata": {},
   "outputs": [
    {
     "data": {
      "text/html": [
       "<div>\n",
       "<style scoped>\n",
       "    .dataframe tbody tr th:only-of-type {\n",
       "        vertical-align: middle;\n",
       "    }\n",
       "\n",
       "    .dataframe tbody tr th {\n",
       "        vertical-align: top;\n",
       "    }\n",
       "\n",
       "    .dataframe thead th {\n",
       "        text-align: right;\n",
       "    }\n",
       "</style>\n",
       "<table border=\"1\" class=\"dataframe\">\n",
       "  <thead>\n",
       "    <tr style=\"text-align: right;\">\n",
       "      <th></th>\n",
       "      <th>Total Value (Lacs)</th>\n",
       "    </tr>\n",
       "    <tr>\n",
       "      <th>Date</th>\n",
       "      <th></th>\n",
       "    </tr>\n",
       "  </thead>\n",
       "  <tbody>\n",
       "    <tr>\n",
       "      <th>2013-01-01</th>\n",
       "      <td>122655.23</td>\n",
       "    </tr>\n",
       "    <tr>\n",
       "      <th>2013-01-02</th>\n",
       "      <td>1545726.64</td>\n",
       "    </tr>\n",
       "    <tr>\n",
       "      <th>2013-01-03</th>\n",
       "      <td>2122986.72</td>\n",
       "    </tr>\n",
       "    <tr>\n",
       "      <th>2013-01-04</th>\n",
       "      <td>1556425.12</td>\n",
       "    </tr>\n",
       "    <tr>\n",
       "      <th>2013-01-05</th>\n",
       "      <td>50631.84</td>\n",
       "    </tr>\n",
       "    <tr>\n",
       "      <th>...</th>\n",
       "      <td>...</td>\n",
       "    </tr>\n",
       "    <tr>\n",
       "      <th>2013-12-27</th>\n",
       "      <td>407936.59</td>\n",
       "    </tr>\n",
       "    <tr>\n",
       "      <th>2013-12-28</th>\n",
       "      <td>0.00</td>\n",
       "    </tr>\n",
       "    <tr>\n",
       "      <th>2013-12-29</th>\n",
       "      <td>0.00</td>\n",
       "    </tr>\n",
       "    <tr>\n",
       "      <th>2013-12-30</th>\n",
       "      <td>403913.20</td>\n",
       "    </tr>\n",
       "    <tr>\n",
       "      <th>2013-12-31</th>\n",
       "      <td>429618.59</td>\n",
       "    </tr>\n",
       "  </tbody>\n",
       "</table>\n",
       "<p>365 rows × 1 columns</p>\n",
       "</div>"
      ],
      "text/plain": [
       "            Total Value (Lacs)\n",
       "Date                          \n",
       "2013-01-01           122655.23\n",
       "2013-01-02          1545726.64\n",
       "2013-01-03          2122986.72\n",
       "2013-01-04          1556425.12\n",
       "2013-01-05            50631.84\n",
       "...                        ...\n",
       "2013-12-27           407936.59\n",
       "2013-12-28                0.00\n",
       "2013-12-29                0.00\n",
       "2013-12-30           403913.20\n",
       "2013-12-31           429618.59\n",
       "\n",
       "[365 rows x 1 columns]"
      ]
     },
     "execution_count": 7,
     "metadata": {},
     "output_type": "execute_result"
    }
   ],
   "source": [
    "data"
   ]
  },
  {
   "cell_type": "code",
   "execution_count": 8,
   "id": "f64f9f20",
   "metadata": {},
   "outputs": [],
   "source": [
    "data.to_csv(\"sales_2013\")"
   ]
  },
  {
   "cell_type": "code",
   "execution_count": null,
   "id": "3cc31cc8",
   "metadata": {},
   "outputs": [],
   "source": []
  }
 ],
 "metadata": {
  "kernelspec": {
   "display_name": "Python 3 (ipykernel)",
   "language": "python",
   "name": "python3"
  },
  "language_info": {
   "codemirror_mode": {
    "name": "ipython",
    "version": 3
   },
   "file_extension": ".py",
   "mimetype": "text/x-python",
   "name": "python",
   "nbconvert_exporter": "python",
   "pygments_lexer": "ipython3",
   "version": "3.10.9"
  }
 },
 "nbformat": 4,
 "nbformat_minor": 5
}
