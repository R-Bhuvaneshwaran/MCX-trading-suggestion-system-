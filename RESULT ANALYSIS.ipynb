{
 "cells": [
  {
   "cell_type": "code",
   "execution_count": 28,
   "id": "3cce1ea4",
   "metadata": {},
   "outputs": [
    {
     "name": "stdout",
     "output_type": "stream",
     "text": [
      "R2 score               :  0.6912949889712341\n",
      "Mean Absolute Error    :  175985.51327091796\n",
      "Root Mean Squared Error:  223921.1089487762\n"
     ]
    }
   ],
   "source": [
    "# extract the forecasted values and the actual values\n",
    "# from sklearn.metrics import r2_score\n",
    "from sklearn.metrics import mean_absolute_error, mean_squared_error, r2_score\n",
    "import math  \n",
    "y_pred = yhat\n",
    "y_true = df['y']\n",
    "\n",
    "# calculate the R2 score\n",
    "r2 = r2_score(y_true, y_pred)\n",
    "\n",
    "# print the R2 score\n",
    "print(\"R2 score               : \", r2)\n",
    "mae=mean_absolute_error(y_true, y_pred)\n",
    "print(\"Mean Absolute Error    : \",mae)\n",
    "rmse = math.sqrt(mse)  \n",
    "print(\"Root Mean Squared Error: \",rmse)"
   ]
  }
 ],
 "metadata": {
  "kernelspec": {
   "display_name": "Python 3 (ipykernel)",
   "language": "python",
   "name": "python3"
  },
  "language_info": {
   "codemirror_mode": {
    "name": "ipython",
    "version": 3
   },
   "file_extension": ".py",
   "mimetype": "text/x-python",
   "name": "python",
   "nbconvert_exporter": "python",
   "pygments_lexer": "ipython3",
   "version": "3.10.9"
  }
 },
 "nbformat": 4,
 "nbformat_minor": 5
}
